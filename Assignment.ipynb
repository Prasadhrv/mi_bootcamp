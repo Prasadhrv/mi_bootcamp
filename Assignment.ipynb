{
 "cells": [
  {
   "cell_type": "markdown",
   "id": "014f50f8-6193-4f21-97be-d3a07e38f603",
   "metadata": {
    "tags": [],
    "toc-hr-collapsed": true
   },
   "source": [
    "# Assignment 13/12/2022"
   ]
  },
  {
   "cell_type": "code",
   "execution_count": 3,
   "id": "971b4a75-2e9e-41e8-969f-a5089c4b7ec3",
   "metadata": {},
   "outputs": [
    {
     "name": "stdin",
     "output_type": "stream",
     "text": [
      "Please enter the first number:  10\n",
      "Please enter the second number:  20\n"
     ]
    },
    {
     "name": "stdout",
     "output_type": "stream",
     "text": [
      "The sum of 10,20 is: 30 \n"
     ]
    }
   ],
   "source": [
    "# WAP to accept two numbers from the user and display their sum\n",
    "num_1=int(input('Please enter the first number: '))\n",
    "num_2=int(input('Please enter the second number: '))\n",
    "total = num_1 + num_2\n",
    "print('The sum of {a},{b} is: {c} '.format(a=num_1,b=num_2,c=total))"
   ]
  },
  {
   "cell_type": "code",
   "execution_count": 6,
   "id": "83a2db36-16a8-4051-abc1-2c7b70848542",
   "metadata": {},
   "outputs": [
    {
     "name": "stdin",
     "output_type": "stream",
     "text": [
      "Please enter the radious of circle:  1\n"
     ]
    },
    {
     "name": "stdout",
     "output_type": "stream",
     "text": [
      "the area of cicle is:  3.14\n"
     ]
    }
   ],
   "source": [
    "# WAP to accept radius of a Circle from the user and calculate area and circumference\n",
    "radious = int(input('Please enter the radious of circle: '))\n",
    "circle_Area = (3.14**radious)\n",
    "print('the area of cicle is: ',circle_Area)"
   ]
  },
  {
   "cell_type": "code",
   "execution_count": 10,
   "id": "cabc1622-6ffb-4ce9-b18f-9662892ce966",
   "metadata": {},
   "outputs": [
    {
     "name": "stdin",
     "output_type": "stream",
     "text": [
      "Enter roll number:  5574\n",
      "Enter grade:  5\n",
      "Enter the percentage of marks:  82%\n"
     ]
    },
    {
     "name": "stdout",
     "output_type": "stream",
     "text": [
      "The Roll number: 5574, Grade: 5, Percentage: 82%:\n"
     ]
    }
   ],
   "source": [
    "# WAP to accept roll number , grade and percentage as input from the user and display it back\n",
    "roll_number = input('Enter roll number: ')\n",
    "grade = input('Enter grade: ')\n",
    "percentage = input('Enter the percentage of marks: ')\n",
    "print('The Roll number: {a}, Grade: {b}, Percentage: {c}:'.format(a = roll_number,b=grade,c=percentage))"
   ]
  },
  {
   "cell_type": "code",
   "execution_count": 18,
   "id": "a9b544e8-ab85-4a4e-89ba-fdc2415e1d7f",
   "metadata": {},
   "outputs": [
    {
     "name": "stdin",
     "output_type": "stream",
     "text": [
      "Enter the age:  10\n",
      "Enter the name:  Vishruth\n"
     ]
    },
    {
     "name": "stdout",
     "output_type": "stream",
     "text": [
      "name :Vishruth,100 years age year: 2112\n"
     ]
    }
   ],
   "source": [
    "# WAP that asks the user to enter his/her name and age.Print out a message \n",
    "# displaying the user’s name along with the year in which they will turn \n",
    "# 100 years old\n",
    "age = int(input('Enter the age: '))\n",
    "name = input('Enter the name: ')\n",
    "age_turn_100 = (2022 - age) + 100\n",
    "print('name :{a},100 years age year: {b}'.format(a = name,b = age_turn_100))"
   ]
  },
  {
   "cell_type": "code",
   "execution_count": 33,
   "id": "1c0e51d4-1e4a-4d55-a311-5f7e2fa7e64f",
   "metadata": {},
   "outputs": [
    {
     "name": "stdin",
     "output_type": "stream",
     "text": [
      "Enter two numbers n1 and n2:  10 20\n"
     ]
    },
    {
     "name": "stdout",
     "output_type": "stream",
     "text": [
      "The sum of 10 and 20 = 30 \n"
     ]
    }
   ],
   "source": [
    "# Write a program that asks the user to input 2 integers and adds them .\n",
    "# Accept both the numbers in a single line only\n",
    "n1,n2= input('Enter two numbers n1 and n2: ').split()\n",
    "total = int(n1) + int(n2)\n",
    "print('The sum of {a} and {b} = {c} '.format(a = n1,b =n2 ,c = total ,))\n"
   ]
  },
  {
   "cell_type": "code",
   "execution_count": 41,
   "id": "3df3df15-128f-4843-92e4-de2e96c029c0",
   "metadata": {},
   "outputs": [
    {
     "name": "stdin",
     "output_type": "stream",
     "text": [
      "Enter the first name:  Prasad\n",
      "Enter the last name:  Ramanna\n"
     ]
    },
    {
     "data": {
      "text/plain": [
       "'annamaR dasarP'"
      ]
     },
     "execution_count": 41,
     "metadata": {},
     "output_type": "execute_result"
    }
   ],
   "source": [
    "# Write a Python program which accepts the user's first and last name and print them in reverse order \n",
    "# with a space between them. prasad ramanna\n",
    "first_name = input('Enter the first name: ')\n",
    "last_name = input ('Enter the last name: ')\n",
    "full_name = first_name + ' ' + last_name\n",
    "full_name[-1::-1]"
   ]
  }
 ],
 "metadata": {
  "kernelspec": {
   "display_name": "Python 3 (ipykernel)",
   "language": "python",
   "name": "python3"
  },
  "language_info": {
   "codemirror_mode": {
    "name": "ipython",
    "version": 3
   },
   "file_extension": ".py",
   "mimetype": "text/x-python",
   "name": "python",
   "nbconvert_exporter": "python",
   "pygments_lexer": "ipython3",
   "version": "3.10.6"
  }
 },
 "nbformat": 4,
 "nbformat_minor": 5
}
