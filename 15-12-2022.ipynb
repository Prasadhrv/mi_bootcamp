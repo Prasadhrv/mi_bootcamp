{
 "cells": [
  {
   "cell_type": "code",
   "execution_count": 8,
   "id": "6b61a2fc-02f1-4e1d-b4fd-d02d70cebb52",
   "metadata": {},
   "outputs": [
    {
     "name": "stdin",
     "output_type": "stream",
     "text": [
      "Please enter the number: 3\n"
     ]
    },
    {
     "name": "stdout",
     "output_type": "stream",
     "text": [
      "Odd number\n"
     ]
    }
   ],
   "source": [
    "# WAP to accept an integer from the user and check whether it is an even or odd \n",
    "num = int(input('Please enter the number:'))\n",
    "if num % 2 == 0:\n",
    "    print('Even number')\n",
    "else:\n",
    "    print('Odd number')\n"
   ]
  },
  {
   "cell_type": "code",
   "execution_count": 16,
   "id": "7d762acd-fec3-42e7-8668-c291bf658832",
   "metadata": {},
   "outputs": [
    {
     "name": "stdin",
     "output_type": "stream",
     "text": [
      "Enter year 2000\n"
     ]
    },
    {
     "name": "stdout",
     "output_type": "stream",
     "text": [
      "Leap year\n"
     ]
    }
   ],
   "source": [
    "# ●\tWAP to accept a year from the user and check whether it is a leap year or not.\n",
    "year = int(input('Enter year'))\n",
    "if (year % 4 == 0 and year % 100 !=0) or year % 400 == 0:\n",
    "    print('Leap year')\n",
    "else:\n",
    "    print('year is not leap')\n",
    "    \n"
   ]
  },
  {
   "cell_type": "code",
   "execution_count": 23,
   "id": "206aa562-5b42-40a0-aa88-8ad4dbdff678",
   "metadata": {},
   "outputs": [
    {
     "name": "stdin",
     "output_type": "stream",
     "text": [
      "Please enter secrete number 50\n",
      "Please guess number again 20\n"
     ]
    },
    {
     "name": "stdout",
     "output_type": "stream",
     "text": [
      "Number too small\n"
     ]
    },
    {
     "name": "stdin",
     "output_type": "stream",
     "text": [
      "Please guess number again 60\n"
     ]
    },
    {
     "name": "stdout",
     "output_type": "stream",
     "text": [
      "Number too large\n"
     ]
    },
    {
     "name": "stdin",
     "output_type": "stream",
     "text": [
      "Please guess number again 50\n"
     ]
    },
    {
     "name": "stdout",
     "output_type": "stream",
     "text": [
      "Congratulations! You guessed it right\n"
     ]
    }
   ],
   "source": [
    "# ●\tYou have to develop a number guessing game\n",
    "secrete_number = int(input('Please enter secrete number'))  #10\n",
    "guess_number = int(input('Please guess number again'))   # 5 \n",
    "\n",
    "while guess_number != secrete_number:\n",
    "    if guess_number > secrete_number:\n",
    "        print('Number too large')\n",
    "        guess_number = int(input('Please guess number again'))\n",
    "    elif guess_number < secrete_number:\n",
    "        print('Number too small')\n",
    "        guess_number = int(input('Please guess number again'))\n",
    "\n",
    "print('Congratulations! You guessed it right')"
   ]
  },
  {
   "cell_type": "code",
   "execution_count": 27,
   "id": "e78aa902-d4d3-469d-af23-c77ce97bd620",
   "metadata": {},
   "outputs": [
    {
     "name": "stdin",
     "output_type": "stream",
     "text": [
      "Enter the string prasad\n"
     ]
    },
    {
     "name": "stdout",
     "output_type": "stream",
     "text": [
      "p\n",
      "r\n",
      "s\n",
      "d\n",
      "prasad\n"
     ]
    }
   ],
   "source": [
    "# Write a program to accept a string from the user and display \n",
    "# it vertically but don’t display the vowels in it.\n",
    "string_input = input('Enter the string')\n",
    "vowels = 'aeiou'\n",
    "for elements in string_input:\n",
    "    if elements not in vowels:\n",
    "        print(elements)\n",
    "print(string_input)"
   ]
  },
  {
   "cell_type": "code",
   "execution_count": null,
   "id": "c9d73cf2-2e93-47c5-887a-8c1b9e98f2b0",
   "metadata": {},
   "outputs": [],
   "source": [
    "# Write a program to print the following pattern "
   ]
  },
  {
   "cell_type": "code",
   "execution_count": 36,
   "id": "d9473ebf-ed8b-4703-b6dc-f6ede47f486d",
   "metadata": {},
   "outputs": [
    {
     "name": "stdout",
     "output_type": "stream",
     "text": [
      "***\n",
      "***\n",
      "***\n"
     ]
    }
   ],
   "source": [
    "for rows in range(3):\n",
    "    for column in range(3):\n",
    "        print('*',end = '')\n",
    "    print()\n"
   ]
  },
  {
   "cell_type": "code",
   "execution_count": 38,
   "id": "933dd09e-0e50-4bf7-b6d7-6106c564ccad",
   "metadata": {},
   "outputs": [
    {
     "name": "stdout",
     "output_type": "stream",
     "text": [
      "\n",
      "*\n",
      "**\n",
      "***\n",
      "****\n"
     ]
    }
   ],
   "source": [
    "# Write a program to print the following pattern \n",
    "for rows in range(5):\n",
    "    print('*'*rows)"
   ]
  },
  {
   "cell_type": "code",
   "execution_count": 44,
   "id": "729375ed-c021-41ef-b8ea-c9cc105b5fb8",
   "metadata": {},
   "outputs": [
    {
     "name": "stdout",
     "output_type": "stream",
     "text": [
      "****\n",
      "***\n",
      "**\n",
      "*\n",
      "\n"
     ]
    }
   ],
   "source": [
    "# ●\tWrite a program to print the following pattern \n",
    "for rows in range(4,-1,-1):\n",
    "    print('*'*rows)"
   ]
  },
  {
   "cell_type": "code",
   "execution_count": null,
   "id": "a91d89d6-f5a5-4af9-ac09-3829bf73879e",
   "metadata": {},
   "outputs": [],
   "source": []
  }
 ],
 "metadata": {
  "kernelspec": {
   "display_name": "Python 3 (ipykernel)",
   "language": "python",
   "name": "python3"
  },
  "language_info": {
   "codemirror_mode": {
    "name": "ipython",
    "version": 3
   },
   "file_extension": ".py",
   "mimetype": "text/x-python",
   "name": "python",
   "nbconvert_exporter": "python",
   "pygments_lexer": "ipython3",
   "version": "3.10.6"
  }
 },
 "nbformat": 4,
 "nbformat_minor": 5
}
