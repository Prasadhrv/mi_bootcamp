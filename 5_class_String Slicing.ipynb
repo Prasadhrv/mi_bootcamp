{
 "cells": [
  {
   "cell_type": "code",
   "execution_count": 13,
   "id": "09ecf3ab-d4a9-426a-a564-212d239506f8",
   "metadata": {},
   "outputs": [],
   "source": [
    "\n",
    " \n",
    "word = 'PYTHON'"
   ]
  },
  {
   "cell_type": "code",
   "execution_count": 5,
   "id": "f47cb2ed-3755-4584-8702-6567b62a9b6a",
   "metadata": {},
   "outputs": [
    {
     "data": {
      "text/plain": [
       "55"
      ]
     },
     "execution_count": 5,
     "metadata": {},
     "output_type": "execute_result"
    }
   ],
   "source": [
    "type(word)\n",
    "import sys\n",
    "sys.getsizeof(word)"
   ]
  },
  {
   "cell_type": "code",
   "execution_count": 28,
   "id": "8c111d92-982b-4fde-b57e-296e945c36b2",
   "metadata": {},
   "outputs": [
    {
     "data": {
      "text/plain": [
       "'PYTHON'"
      ]
     },
     "execution_count": 28,
     "metadata": {},
     "output_type": "execute_result"
    }
   ],
   "source": [
    "# 0    1    2    3    4    5 ===> FARWARD INDEXING\n",
    "# P    Y    T    H    O    N \n",
    "#-6   -5   -4   -3   -2   -1 ===> BACKWORD INDEXING\n",
    "word"
   ]
  },
  {
   "cell_type": "code",
   "execution_count": 26,
   "id": "9e636709-7255-4c08-b6e8-e1bfcc399995",
   "metadata": {},
   "outputs": [
    {
     "data": {
      "text/plain": [
       "'T'"
      ]
     },
     "execution_count": 26,
     "metadata": {},
     "output_type": "execute_result"
    }
   ],
   "source": [
    "word[2]"
   ]
  },
  {
   "cell_type": "code",
   "execution_count": 27,
   "id": "05e1b7b9-83a0-46e2-9756-ebb6bd3fbd7a",
   "metadata": {},
   "outputs": [
    {
     "data": {
      "text/plain": [
       "'T'"
      ]
     },
     "execution_count": 27,
     "metadata": {},
     "output_type": "execute_result"
    }
   ],
   "source": [
    "word[-4]"
   ]
  },
  {
   "cell_type": "code",
   "execution_count": 29,
   "id": "bf974f11-d58f-4e49-bb0e-d470bd2c55be",
   "metadata": {},
   "outputs": [
    {
     "data": {
      "text/plain": [
       "6"
      ]
     },
     "execution_count": 29,
     "metadata": {},
     "output_type": "execute_result"
    }
   ],
   "source": [
    "len(word)"
   ]
  },
  {
   "cell_type": "code",
   "execution_count": 30,
   "id": "388923f9-5606-47a4-b974-964aa5db69ea",
   "metadata": {},
   "outputs": [
    {
     "data": {
      "text/plain": [
       "5"
      ]
     },
     "execution_count": 30,
     "metadata": {},
     "output_type": "execute_result"
    }
   ],
   "source": [
    "len(word) - 1"
   ]
  },
  {
   "cell_type": "code",
   "execution_count": 5,
   "id": "d6fa8eb7-f86d-4580-b91e-40570f0ec897",
   "metadata": {},
   "outputs": [],
   "source": [
    "a = 'Prasad Ramanna      '"
   ]
  },
  {
   "cell_type": "code",
   "execution_count": 8,
   "id": "365b0a85-a9fd-4361-993a-25077e807d09",
   "metadata": {},
   "outputs": [
    {
     "data": {
      "text/plain": [
       "20"
      ]
     },
     "execution_count": 8,
     "metadata": {},
     "output_type": "execute_result"
    }
   ],
   "source": [
    "len(a)"
   ]
  },
  {
   "cell_type": "code",
   "execution_count": 11,
   "id": "576ef412-0c5f-440b-87f5-3b237990b328",
   "metadata": {},
   "outputs": [
    {
     "data": {
      "text/plain": [
       "'   '"
      ]
     },
     "execution_count": 11,
     "metadata": {},
     "output_type": "execute_result"
    }
   ],
   "source": [
    "a[16:19]"
   ]
  },
  {
   "cell_type": "code",
   "execution_count": 4,
   "id": "533383fe-ff0d-4a27-b52b-0148a86b36ef",
   "metadata": {},
   "outputs": [
    {
     "data": {
      "text/plain": [
       "'P'"
      ]
     },
     "execution_count": 4,
     "metadata": {},
     "output_type": "execute_result"
    }
   ],
   "source": [
    "a[0]"
   ]
  },
  {
   "cell_type": "markdown",
   "id": "597fe8a5-f333-42cf-abde-70d77251bd75",
   "metadata": {},
   "source": [
    "# Concatination"
   ]
  },
  {
   "cell_type": "code",
   "execution_count": 14,
   "id": "ac10882d-8087-496c-be69-07b65b6cb013",
   "metadata": {},
   "outputs": [],
   "source": [
    "a = 'Prasad'\n",
    "b = 'Ramanna'"
   ]
  },
  {
   "cell_type": "code",
   "execution_count": 22,
   "id": "361661bf-281a-4b0f-b439-b7562cfdc9b2",
   "metadata": {},
   "outputs": [
    {
     "data": {
      "text/plain": [
       "'Prasad Ramanna'"
      ]
     },
     "execution_count": 22,
     "metadata": {},
     "output_type": "execute_result"
    }
   ],
   "source": [
    "a +' '+ b"
   ]
  },
  {
   "cell_type": "markdown",
   "id": "b8252205-bcb9-4b16-9f95-16dffdd4a7fc",
   "metadata": {},
   "source": [
    "# Slicing"
   ]
  },
  {
   "cell_type": "code",
   "execution_count": 23,
   "id": "9ba316a8-59a0-4297-90f1-5bc0b3bbd355",
   "metadata": {},
   "outputs": [],
   "source": [
    "a = 'prasad'"
   ]
  },
  {
   "cell_type": "code",
   "execution_count": 25,
   "id": "22fbda84-b7e1-4ead-a464-b6cec0af397e",
   "metadata": {},
   "outputs": [
    {
     "data": {
      "text/plain": [
       "'ras'"
      ]
     },
     "execution_count": 25,
     "metadata": {},
     "output_type": "execute_result"
    }
   ],
   "source": [
    "# ras         0   1   2   3   4   5\n",
    "            # p   r   a   s   a   d\n",
    "a[1:4]  #    -6  -5  -4  -3  -2  -1 "
   ]
  },
  {
   "cell_type": "code",
   "execution_count": 26,
   "id": "7b765118-c575-4d45-aae8-cdd1c3181b41",
   "metadata": {},
   "outputs": [
    {
     "data": {
      "text/plain": [
       "'ras'"
      ]
     },
     "execution_count": 26,
     "metadata": {},
     "output_type": "execute_result"
    }
   ],
   "source": [
    "a[-5:-2]"
   ]
  },
  {
   "cell_type": "code",
   "execution_count": 28,
   "id": "dd376c22-c756-4453-8729-f5a45792f11d",
   "metadata": {},
   "outputs": [],
   "source": [
    "# shi\n",
    "a = 'ashish'"
   ]
  },
  {
   "cell_type": "code",
   "execution_count": 30,
   "id": "b92d8817-cc6a-4501-bb1c-9c76a51366d4",
   "metadata": {},
   "outputs": [
    {
     "data": {
      "text/plain": [
       "'shi'"
      ]
     },
     "execution_count": 30,
     "metadata": {},
     "output_type": "execute_result"
    }
   ],
   "source": [
    "a[1:4]"
   ]
  },
  {
   "cell_type": "code",
   "execution_count": 32,
   "id": "8ff64225-f44a-43e0-af2b-ad7eb203e0b3",
   "metadata": {},
   "outputs": [
    {
     "data": {
      "text/plain": [
       "'shi'"
      ]
     },
     "execution_count": 32,
     "metadata": {},
     "output_type": "execute_result"
    }
   ],
   "source": [
    "a[-5:-2]"
   ]
  },
  {
   "cell_type": "code",
   "execution_count": 38,
   "id": "08736cab-7844-46bc-81bf-3cff0bd8e517",
   "metadata": {},
   "outputs": [
    {
     "data": {
      "text/plain": [
       "'ish'"
      ]
     },
     "execution_count": 38,
     "metadata": {},
     "output_type": "execute_result"
    }
   ],
   "source": [
    "a[3:]"
   ]
  },
  {
   "cell_type": "code",
   "execution_count": 37,
   "id": "d6db4ec3-23dc-48d3-8b65-04a6a633f260",
   "metadata": {
    "tags": []
   },
   "outputs": [
    {
     "data": {
      "text/plain": [
       "'ish'"
      ]
     },
     "execution_count": 37,
     "metadata": {},
     "output_type": "execute_result"
    }
   ],
   "source": [
    "a[-3:]"
   ]
  },
  {
   "cell_type": "code",
   "execution_count": null,
   "id": "e92bb140-0c97-4ce1-9559-5711128326a1",
   "metadata": {},
   "outputs": [],
   "source": [
    "a = 'prasad'"
   ]
  },
  {
   "cell_type": "code",
   "execution_count": 39,
   "id": "a6de1400-1b58-45fb-aa82-a3f436e5d1f3",
   "metadata": {},
   "outputs": [
    {
     "data": {
      "text/plain": [
       "''"
      ]
     },
     "execution_count": 39,
     "metadata": {},
     "output_type": "execute_result"
    }
   ],
   "source": [
    "a[3:3]"
   ]
  },
  {
   "cell_type": "code",
   "execution_count": 43,
   "id": "96917f04-6dac-49ec-8ede-e957d1e05ac2",
   "metadata": {},
   "outputs": [],
   "source": [
    "a = 'python'"
   ]
  },
  {
   "cell_type": "code",
   "execution_count": 40,
   "id": "b9ec943d-8b2f-4748-a284-79212e878c97",
   "metadata": {},
   "outputs": [
    {
     "data": {
      "text/plain": [
       "''"
      ]
     },
     "execution_count": 40,
     "metadata": {},
     "output_type": "execute_result"
    }
   ],
   "source": [
    "a[6:10]"
   ]
  },
  {
   "cell_type": "code",
   "execution_count": 47,
   "id": "9d670bf7-e6b0-419a-af59-c7cfd94d1d04",
   "metadata": {},
   "outputs": [
    {
     "data": {
      "text/plain": [
       "''"
      ]
     },
     "execution_count": 47,
     "metadata": {},
     "output_type": "execute_result"
    }
   ],
   "source": [
    "a[10:]"
   ]
  },
  {
   "cell_type": "code",
   "execution_count": 49,
   "id": "a9f94c46-4207-4da4-a7b0-f44b76c7f2b3",
   "metadata": {},
   "outputs": [
    {
     "data": {
      "text/plain": [
       "''"
      ]
     },
     "execution_count": 49,
     "metadata": {},
     "output_type": "execute_result"
    }
   ],
   "source": [
    "s = 'welcome' #emoc\n",
    "s[-1:-4] "
   ]
  },
  {
   "cell_type": "markdown",
   "id": "f1240e30-0ec7-4a77-90f7-d2b2f7cac227",
   "metadata": {},
   "source": [
    "# Step value"
   ]
  },
  {
   "cell_type": "code",
   "execution_count": 64,
   "id": "705ded3b-b57b-4f15-9150-745e316cc3df",
   "metadata": {},
   "outputs": [],
   "source": [
    "s = 'Veerabhadra'"
   ]
  },
  {
   "cell_type": "code",
   "execution_count": 70,
   "id": "6c298025-08eb-4f42-8c58-17721654d1fa",
   "metadata": {},
   "outputs": [
    {
     "data": {
      "text/plain": [
       "'Veahda'"
      ]
     },
     "execution_count": 70,
     "metadata": {},
     "output_type": "execute_result"
    }
   ],
   "source": [
    "s[0:11:2]"
   ]
  },
  {
   "cell_type": "code",
   "execution_count": 72,
   "id": "a7fb1e43-da70-4355-a9bd-58a3f05eb297",
   "metadata": {},
   "outputs": [],
   "source": [
    "word = 'prasad'"
   ]
  },
  {
   "cell_type": "code",
   "execution_count": 73,
   "id": "8b9240fa-d2c8-46e3-a0aa-7a4e4b9af878",
   "metadata": {},
   "outputs": [
    {
     "data": {
      "text/plain": [
       "'pra'"
      ]
     },
     "execution_count": 73,
     "metadata": {},
     "output_type": "execute_result"
    }
   ],
   "source": [
    "word[0:3]"
   ]
  },
  {
   "cell_type": "code",
   "execution_count": 77,
   "id": "14c6eee0-489b-453a-9722-f75d24d5c452",
   "metadata": {},
   "outputs": [
    {
     "data": {
      "text/plain": [
       "'dsr'"
      ]
     },
     "execution_count": 78,
     "metadata": {},
     "output_type": "execute_result"
    }
   ],
   "source": [
    "word[-1:-6:-2] # paa"
   ]
  },
  {
   "cell_type": "code",
   "execution_count": 79,
   "id": "0b71a3ea-fb55-43b3-8b2e-c7bae1e618bf",
   "metadata": {},
   "outputs": [
    {
     "data": {
      "text/plain": [
       "'prasad'"
      ]
     },
     "execution_count": 79,
     "metadata": {},
     "output_type": "execute_result"
    }
   ],
   "source": [
    "word"
   ]
  },
  {
   "cell_type": "code",
   "execution_count": 80,
   "id": "0bb355c5-6f41-4a27-800a-4e0b45de6568",
   "metadata": {},
   "outputs": [
    {
     "data": {
      "text/plain": [
       "'dasarp'"
      ]
     },
     "execution_count": 80,
     "metadata": {},
     "output_type": "execute_result"
    }
   ],
   "source": [
    "word[-1::-1]"
   ]
  },
  {
   "cell_type": "code",
   "execution_count": 81,
   "id": "2aa83af4-8588-46be-9948-30cc3beffe33",
   "metadata": {},
   "outputs": [
    {
     "data": {
      "text/plain": [
       "'dasarp'"
      ]
     },
     "execution_count": 81,
     "metadata": {},
     "output_type": "execute_result"
    }
   ],
   "source": [
    "word[::-1]"
   ]
  },
  {
   "cell_type": "code",
   "execution_count": 94,
   "id": "2cd0b955-16e4-4861-a470-fea92ca07ad7",
   "metadata": {},
   "outputs": [],
   "source": [
    "# from the sentence reverse \"data sceience\"\n",
    "a = 'learning data science'\n",
    "# 0    1     2    3    4    5    6    7    8    9    10    11    12    13    14    15   16   17   18\n",
    "# l    e     a    r    n    i    n    g    d    a    t     a     s     c     i     e    n     c    r  \n",
    "# -19 -18   -17  -16  -15  -14  -13  -12  -11  -10   -9    -8    -7   -6    -5    -4   -3    -2   -1                          -2   -1"
   ]
  },
  {
   "cell_type": "code",
   "execution_count": 95,
   "id": "db4d7ce2-bf19-46d1-b5e5-2c514bbb342f",
   "metadata": {},
   "outputs": [
    {
     "data": {
      "text/plain": [
       "'ecneics atad'"
      ]
     },
     "execution_count": 95,
     "metadata": {},
     "output_type": "execute_result"
    }
   ],
   "source": [
    "a[-1:-13:-1]"
   ]
  },
  {
   "cell_type": "code",
   "execution_count": 104,
   "id": "e14fa9cf-75d4-49bb-bf25-0c4529076097",
   "metadata": {},
   "outputs": [
    {
     "name": "stdin",
     "output_type": "stream",
     "text": [
      "Enter the first number 40\n",
      "Enter the second number 30\n"
     ]
    },
    {
     "name": "stdout",
     "output_type": "stream",
     "text": [
      "The sum of first and second number is : 70\n"
     ]
    }
   ],
   "source": [
    "a = int(input('Enter the first number'))\n",
    "b = int(input('Enter the second number'))\n",
    "c = a + b\n",
    "print('The sum of first and second number is :', c)"
   ]
  },
  {
   "cell_type": "markdown",
   "id": "ec19c918-c9cb-4e3a-9dcf-cc785e6b83a0",
   "metadata": {},
   "source": [
    "# Arithmetic Operator"
   ]
  },
  {
   "cell_type": "code",
   "execution_count": 121,
   "id": "f3687f25-afb7-41e3-8e83-d0b9f46b7227",
   "metadata": {},
   "outputs": [],
   "source": [
    "x = 10\n",
    "y = 3"
   ]
  },
  {
   "cell_type": "code",
   "execution_count": 122,
   "id": "d809efc9-dfbc-4bec-ad37-ab45bd6984c5",
   "metadata": {},
   "outputs": [
    {
     "data": {
      "text/plain": [
       "13"
      ]
     },
     "execution_count": 122,
     "metadata": {},
     "output_type": "execute_result"
    }
   ],
   "source": [
    "# addition\n",
    "x + y"
   ]
  },
  {
   "cell_type": "code",
   "execution_count": 123,
   "id": "33d1639b-4dac-47a0-b4d1-e407183c755d",
   "metadata": {},
   "outputs": [
    {
     "data": {
      "text/plain": [
       "7"
      ]
     },
     "execution_count": 123,
     "metadata": {},
     "output_type": "execute_result"
    }
   ],
   "source": [
    "# subtraction\n",
    "x - y"
   ]
  },
  {
   "cell_type": "code",
   "execution_count": 124,
   "id": "3b33f1d3-f2f4-442a-bbdf-71d06c26b725",
   "metadata": {},
   "outputs": [
    {
     "data": {
      "text/plain": [
       "30"
      ]
     },
     "execution_count": 124,
     "metadata": {},
     "output_type": "execute_result"
    }
   ],
   "source": [
    "# multiplication\n",
    "x * y"
   ]
  },
  {
   "cell_type": "code",
   "execution_count": 125,
   "id": "7dddc5ff-d1ef-4e36-bd96-9665224d098e",
   "metadata": {},
   "outputs": [
    {
     "data": {
      "text/plain": [
       "3.3333333333333335"
      ]
     },
     "execution_count": 125,
     "metadata": {},
     "output_type": "execute_result"
    }
   ],
   "source": [
    "# division\n",
    "x/y"
   ]
  },
  {
   "cell_type": "code",
   "execution_count": 126,
   "id": "b92bc2d8-0cec-4d25-9b97-22d2b0d3f03d",
   "metadata": {},
   "outputs": [
    {
     "data": {
      "text/plain": [
       "1"
      ]
     },
     "execution_count": 126,
     "metadata": {},
     "output_type": "execute_result"
    }
   ],
   "source": [
    "# x % y = 10 % 3 =1 = >  modulos ( get reminder 3)10(3\n",
    "                                          #   9\n",
    "                                          # -------\n",
    "                                          #   1\n",
    "x % y"
   ]
  },
  {
   "cell_type": "code",
   "execution_count": 127,
   "id": "feb7aa1c-c2bd-4c60-81eb-2a9121d99497",
   "metadata": {},
   "outputs": [
    {
     "data": {
      "text/plain": [
       "3"
      ]
     },
     "execution_count": 127,
     "metadata": {},
     "output_type": "execute_result"
    }
   ],
   "source": [
    "# x % y = 10//3 = 3  = >  floor value ( get reminder 3)10(3\n",
    "                                                    #   9\n",
    "                                                    # -------\n",
    "                                                    #   1\n",
    "            \n",
    "x // y"
   ]
  },
  {
   "cell_type": "markdown",
   "id": "00359fda-f7ec-47ea-a660-bd2607e689ad",
   "metadata": {},
   "source": [
    "# Relational Operator"
   ]
  },
  {
   "cell_type": "code",
   "execution_count": null,
   "id": "2fca30c3-5e37-4931-a0c6-e43c8a6d2497",
   "metadata": {},
   "outputs": [],
   "source": [
    "a  = 10\n",
    "b = 4"
   ]
  },
  {
   "cell_type": "code",
   "execution_count": 128,
   "id": "30cfcf05-5806-474a-b4df-64535964d457",
   "metadata": {},
   "outputs": [
    {
     "name": "stdout",
     "output_type": "stream",
     "text": [
      "a= 40 b= 30\n"
     ]
    }
   ],
   "source": [
    "print('a=',a,'b=',b)"
   ]
  },
  {
   "cell_type": "code",
   "execution_count": 131,
   "id": "8b93c9cd-ed0d-4cab-9ea3-a5c5b7afd6d0",
   "metadata": {},
   "outputs": [
    {
     "name": "stdout",
     "output_type": "stream",
     "text": [
      "a > b True\n"
     ]
    }
   ],
   "source": [
    "print('a > b', a > b)"
   ]
  },
  {
   "cell_type": "code",
   "execution_count": 130,
   "id": "49179f07-380e-442e-8ff3-66f3bc658a75",
   "metadata": {},
   "outputs": [
    {
     "name": "stdout",
     "output_type": "stream",
     "text": [
      "a<b False\n"
     ]
    }
   ],
   "source": [
    "print('a<b',a<b)"
   ]
  },
  {
   "cell_type": "code",
   "execution_count": 132,
   "id": "15fefa18-642b-4695-ab7e-cbf4565ee261",
   "metadata": {},
   "outputs": [],
   "source": [
    "a = 's'"
   ]
  },
  {
   "cell_type": "code",
   "execution_count": 139,
   "id": "e9e349f8-094b-4d17-8ce3-8c0973df6a25",
   "metadata": {},
   "outputs": [
    {
     "data": {
      "text/plain": [
       "115"
      ]
     },
     "execution_count": 139,
     "metadata": {},
     "output_type": "execute_result"
    }
   ],
   "source": [
    "ord('s')"
   ]
  },
  {
   "cell_type": "code",
   "execution_count": 140,
   "id": "7b6cd23b-0ef0-4f81-ad5e-89ba7a44638d",
   "metadata": {},
   "outputs": [],
   "source": [
    "x = 10\n",
    "y = 20\n",
    "z = 30"
   ]
  },
  {
   "cell_type": "code",
   "execution_count": 144,
   "id": "0e5d3552-d5ce-41c5-82dd-fcbd0316183b",
   "metadata": {},
   "outputs": [],
   "source": [
    "a,b,c = 10,20,30"
   ]
  },
  {
   "cell_type": "code",
   "execution_count": 145,
   "id": "d08b741c-aebe-48f3-8228-f5bf729c9af8",
   "metadata": {},
   "outputs": [
    {
     "data": {
      "text/plain": [
       "10"
      ]
     },
     "execution_count": 145,
     "metadata": {},
     "output_type": "execute_result"
    }
   ],
   "source": [
    "a"
   ]
  },
  {
   "cell_type": "code",
   "execution_count": 148,
   "id": "d6b8816b-61a8-4ee2-9270-a93758d152de",
   "metadata": {},
   "outputs": [
    {
     "ename": "ValueError",
     "evalue": "too many values to unpack (expected 3)",
     "output_type": "error",
     "traceback": [
      "\u001b[0;31m---------------------------------------------------------------------------\u001b[0m",
      "\u001b[0;31mValueError\u001b[0m                                Traceback (most recent call last)",
      "Cell \u001b[0;32mIn [148], line 1\u001b[0m\n\u001b[0;32m----> 1\u001b[0m a,b,c \u001b[38;5;241m=\u001b[39m \u001b[38;5;241m1\u001b[39m,\u001b[38;5;241m2\u001b[39m,\u001b[38;5;241m3\u001b[39m,\u001b[38;5;241m4\u001b[39m,\u001b[38;5;241m5\u001b[39m,\u001b[38;5;241m6\u001b[39m\n",
      "\u001b[0;31mValueError\u001b[0m: too many values to unpack (expected 3)"
     ]
    }
   ],
   "source": [
    "a,b,c = 1,2,3,4,5,6"
   ]
  },
  {
   "cell_type": "code",
   "execution_count": 149,
   "id": "6774ce9c-b10c-4d0e-9b73-23b208f35613",
   "metadata": {},
   "outputs": [],
   "source": [
    "a ='prasad'"
   ]
  },
  {
   "cell_type": "code",
   "execution_count": 156,
   "id": "830f4fd3-2624-45d9-bbaf-de8bb15b0435",
   "metadata": {},
   "outputs": [
    {
     "data": {
      "text/plain": [
       "True"
      ]
     },
     "execution_count": 156,
     "metadata": {},
     "output_type": "execute_result"
    }
   ],
   "source": [
    "b = 'x'\n",
    "b not in a"
   ]
  },
  {
   "cell_type": "code",
   "execution_count": 157,
   "id": "0dd1e8c0-143f-4ce9-a054-ed9e8df343b3",
   "metadata": {},
   "outputs": [],
   "source": [
    "a = 10\n"
   ]
  },
  {
   "cell_type": "code",
   "execution_count": 158,
   "id": "292a52d0-f3f0-492f-9968-3658bf82aa23",
   "metadata": {},
   "outputs": [
    {
     "data": {
      "text/plain": [
       "140291781362192"
      ]
     },
     "execution_count": 158,
     "metadata": {},
     "output_type": "execute_result"
    }
   ],
   "source": [
    "id(a)"
   ]
  },
  {
   "cell_type": "code",
   "execution_count": 159,
   "id": "6d88064f-5b83-43d0-8796-58e0cf28cea6",
   "metadata": {},
   "outputs": [],
   "source": [
    "b = 20"
   ]
  },
  {
   "cell_type": "code",
   "execution_count": 160,
   "id": "09d9d1c7-6f3d-436d-ba71-9c00d0bd02b6",
   "metadata": {},
   "outputs": [
    {
     "data": {
      "text/plain": [
       "140291781362512"
      ]
     },
     "execution_count": 160,
     "metadata": {},
     "output_type": "execute_result"
    }
   ],
   "source": [
    "id(b)"
   ]
  },
  {
   "cell_type": "code",
   "execution_count": 161,
   "id": "4a4dd3b5-d33b-4f4b-a187-9bf79d1a413f",
   "metadata": {},
   "outputs": [
    {
     "data": {
      "text/plain": [
       "False"
      ]
     },
     "execution_count": 161,
     "metadata": {},
     "output_type": "execute_result"
    }
   ],
   "source": [
    "a is b"
   ]
  },
  {
   "cell_type": "code",
   "execution_count": 162,
   "id": "802a0b90-9d3a-4f2e-835e-3270d456bb43",
   "metadata": {},
   "outputs": [
    {
     "data": {
      "text/plain": [
       "False"
      ]
     },
     "execution_count": 162,
     "metadata": {},
     "output_type": "execute_result"
    }
   ],
   "source": [
    "b is a"
   ]
  },
  {
   "cell_type": "code",
   "execution_count": 163,
   "id": "affebb2c-85d9-4863-9386-f99619af0bd6",
   "metadata": {},
   "outputs": [
    {
     "data": {
      "text/plain": [
       "True"
      ]
     },
     "execution_count": 163,
     "metadata": {},
     "output_type": "execute_result"
    }
   ],
   "source": [
    "a is not b"
   ]
  },
  {
   "cell_type": "code",
   "execution_count": 164,
   "id": "899db8b6-f093-4b05-bb46-334212a2d426",
   "metadata": {},
   "outputs": [],
   "source": [
    "a  = 10"
   ]
  },
  {
   "cell_type": "code",
   "execution_count": 165,
   "id": "51fd1066-7837-4c58-ab7a-6e2417cd13b7",
   "metadata": {},
   "outputs": [
    {
     "data": {
      "text/plain": [
       "140291781362192"
      ]
     },
     "execution_count": 165,
     "metadata": {},
     "output_type": "execute_result"
    }
   ],
   "source": [
    "id(a)"
   ]
  },
  {
   "cell_type": "code",
   "execution_count": 166,
   "id": "d9d76a49-fab6-42d4-aee0-10acf3233567",
   "metadata": {},
   "outputs": [],
   "source": [
    "b =  10"
   ]
  },
  {
   "cell_type": "code",
   "execution_count": 167,
   "id": "5c5d74c5-9cd9-4adf-ba9f-81505d163a2e",
   "metadata": {},
   "outputs": [
    {
     "data": {
      "text/plain": [
       "140291781362192"
      ]
     },
     "execution_count": 167,
     "metadata": {},
     "output_type": "execute_result"
    }
   ],
   "source": [
    "id(b)"
   ]
  },
  {
   "cell_type": "code",
   "execution_count": 168,
   "id": "2765648b-96f3-4e8c-9989-0581dc08f04e",
   "metadata": {},
   "outputs": [
    {
     "data": {
      "text/plain": [
       "True"
      ]
     },
     "execution_count": 168,
     "metadata": {},
     "output_type": "execute_result"
    }
   ],
   "source": [
    "a is b"
   ]
  },
  {
   "cell_type": "code",
   "execution_count": 176,
   "id": "35e139e8-51fa-42d8-8ab0-b65cff239f06",
   "metadata": {},
   "outputs": [
    {
     "data": {
      "text/plain": [
       "False"
      ]
     },
     "execution_count": 176,
     "metadata": {},
     "output_type": "execute_result"
    }
   ],
   "source": [
    "s = 'prasad'\n",
    "'ps' in s"
   ]
  },
  {
   "cell_type": "code",
   "execution_count": null,
   "id": "447c3d1b-3c6d-41bd-bbc0-30eef0e1feaa",
   "metadata": {},
   "outputs": [],
   "source": [
    "name and age"
   ]
  },
  {
   "cell_type": "code",
   "execution_count": 192,
   "id": "15f228c1-5d65-43b5-92d5-d38d8c998200",
   "metadata": {},
   "outputs": [
    {
     "name": "stdin",
     "output_type": "stream",
     "text": [
      "Please enter name shanaya\n",
      "Please enter age 5\n"
     ]
    },
    {
     "name": "stdout",
     "output_type": "stream",
     "text": [
      "name is : shanaya and 100 year is : 2117\n"
     ]
    }
   ],
   "source": [
    "# 2022 - 22 = 2000 + 100 = 2100\n",
    "name = input('Please enter name')\n",
    "age = int(input('Please enter age'))\n",
    "birth_year = (2022 - age)\n",
    "year_100 = (birth_year + 100)\n",
    "print('name is :',name,'and 100 year is :', year_100)\n",
    "# print(name,year_100)"
   ]
  },
  {
   "cell_type": "code",
   "execution_count": null,
   "id": "577ac185-f05a-4346-b251-b30d2033dddf",
   "metadata": {},
   "outputs": [],
   "source": [
    "# first name and last name print htem in reverse order space between them\n"
   ]
  },
  {
   "cell_type": "code",
   "execution_count": 203,
   "id": "b6409315-eaca-4758-9eb8-edea00ca69ea",
   "metadata": {},
   "outputs": [
    {
     "name": "stdin",
     "output_type": "stream",
     "text": [
      "Please enter the first name prasad\n",
      "Please enter the last name ramanna\n"
     ]
    },
    {
     "name": "stdout",
     "output_type": "stream",
     "text": [
      "Reverse name is : annamar dasarp\n"
     ]
    }
   ],
   "source": [
    "first_name = input('Please enter the first name')\n",
    "last_name = input('Please enter the last name')\n",
    "full_name = first_name +' '+ last_name\n",
    "# reverse_name  = full_name[-1::-1]\n",
    "reverse_name  = full_name[::-1]\n",
    "print('Reverse name is :', reverse_name)"
   ]
  },
  {
   "cell_type": "code",
   "execution_count": 205,
   "id": "e578840d-cbc9-41bb-b660-f72cd02276f4",
   "metadata": {},
   "outputs": [],
   "source": [
    "p = 'prasad'"
   ]
  },
  {
   "cell_type": "code",
   "execution_count": 206,
   "id": "a20584fc-53f0-42ad-93ba-0a078b3572cb",
   "metadata": {},
   "outputs": [
    {
     "data": {
      "text/plain": [
       "'dasar'"
      ]
     },
     "execution_count": 206,
     "metadata": {},
     "output_type": "execute_result"
    }
   ],
   "source": [
    "p[-1:-6:-1]"
   ]
  },
  {
   "cell_type": "code",
   "execution_count": null,
   "id": "562263a6-aa83-44ba-8082-a87d84600957",
   "metadata": {},
   "outputs": [],
   "source": []
  },
  {
   "cell_type": "code",
   "execution_count": null,
   "id": "836a2930-4dc2-4318-9a79-616db2470d6b",
   "metadata": {},
   "outputs": [],
   "source": []
  },
  {
   "cell_type": "code",
   "execution_count": null,
   "id": "36c0ce16-7668-43d6-93c0-fc209fe89443",
   "metadata": {},
   "outputs": [],
   "source": []
  },
  {
   "cell_type": "code",
   "execution_count": null,
   "id": "52845b65-0500-43a3-831a-93f1180822a1",
   "metadata": {},
   "outputs": [],
   "source": []
  }
 ],
 "metadata": {
  "kernelspec": {
   "display_name": "Python 3 (ipykernel)",
   "language": "python",
   "name": "python3"
  },
  "language_info": {
   "codemirror_mode": {
    "name": "ipython",
    "version": 3
   },
   "file_extension": ".py",
   "mimetype": "text/x-python",
   "name": "python",
   "nbconvert_exporter": "python",
   "pygments_lexer": "ipython3",
   "version": "3.10.6"
  }
 },
 "nbformat": 4,
 "nbformat_minor": 5
}
